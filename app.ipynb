{
 "cells": [
  {
   "cell_type": "code",
   "execution_count": 34,
   "metadata": {},
   "outputs": [],
   "source": [
    "from langchain.prompts import PromptTemplate\n",
    "from langchain_community.llms import CTransformers"
   ]
  },
  {
   "cell_type": "code",
   "execution_count": 35,
   "metadata": {},
   "outputs": [],
   "source": [
    "from langchain.chains import LLMChain\n",
    "from langchain.prompts import PromptTemplate"
   ]
  },
  {
   "cell_type": "code",
   "execution_count": 36,
   "metadata": {},
   "outputs": [],
   "source": [
    "\n",
    "template = \"\"\"\n",
    "        Write a blog for {blog_style} job profile for a topic {input_text}\n",
    "        within {no_words} words.\n",
    "            \"\"\"\n",
    "prompt = PromptTemplate(input_variables=[\"blog_style\", \"input_text\", 'no_words'],\n",
    "                        template=template)"
   ]
  },
  {
   "cell_type": "code",
   "execution_count": 39,
   "metadata": {},
   "outputs": [
    {
     "name": "stderr",
     "output_type": "stream",
     "text": [
      "/var/www/html/projects/liam2_blog_engine/venv/lib/python3.12/site-packages/langchain_core/_api/deprecation.py:117: LangChainDeprecationWarning: The function `__call__` was deprecated in LangChain 0.1.7 and will be removed in 0.2.0. Use invoke instead.\n",
      "  warn_deprecated(\n"
     ]
    },
    {
     "name": "stdout",
     "output_type": "stream",
     "text": [
      "1. Introduction\n",
      "Large language models have become an integral part of our daily lives, from chatbots and virtual assistants to language translation apps and voice-controlled devices. These models are trained on vast amounts of data and can generate text, recognize patterns, and answer questions with remarkable accuracy. In this blog post, we will explore the job profile of researchers working on large language models, including their roles, responsibilities, and skills required for success in this field.\n",
      "            2. Roles and Responsibilities\n",
      "Researchers working on large language models typically have a variety of roles and responsibilities, including:\n",
      "* Developing and improving language models to perform various tasks such as text classification, sentiment analysis, and machine translation.\n",
      "* Conducting research to better understand the underlying mechanisms of language and how it is processed in the brain.\n",
      "* Collaborating with other researchers and engineers to design and implement new technologies and applications for natural language processing (NLP).\n",
      "* Analyzing and interpreting data to identify trends, patterns, and insights that can inform decision-making processes.\n",
      "* Developing and implementing algorithms and models to improve the accuracy and efficiency of large language models\n"
     ]
    }
   ],
   "source": [
    "llm = CTransformers(model='./model/llama-2-7b-chat.ggmlv3.q2_K (1).bin',   model_type='llama',\n",
    "                    config={'max_new_tokens': 256,\n",
    "                            'temperature': 0.01})\n",
    "\n",
    "ans = llm(prompt.format(blog_style=\"researches\",\n",
    "          input_text=\"large language models\", no_words=300))\n",
    "print(ans)"
   ]
  },
  {
   "cell_type": "code",
   "execution_count": null,
   "metadata": {},
   "outputs": [],
   "source": []
  },
  {
   "cell_type": "code",
   "execution_count": null,
   "metadata": {},
   "outputs": [],
   "source": []
  },
  {
   "cell_type": "code",
   "execution_count": null,
   "metadata": {},
   "outputs": [],
   "source": []
  },
  {
   "cell_type": "code",
   "execution_count": null,
   "metadata": {},
   "outputs": [],
   "source": []
  }
 ],
 "metadata": {
  "kernelspec": {
   "display_name": "Python 3",
   "language": "python",
   "name": "python3"
  },
  "language_info": {
   "codemirror_mode": {
    "name": "ipython",
    "version": 3
   },
   "file_extension": ".py",
   "mimetype": "text/x-python",
   "name": "python",
   "nbconvert_exporter": "python",
   "pygments_lexer": "ipython3",
   "version": "3.12.2"
  }
 },
 "nbformat": 4,
 "nbformat_minor": 2
}
